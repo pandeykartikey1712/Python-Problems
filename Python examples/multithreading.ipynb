{
 "cells": [
  {
   "cell_type": "code",
   "execution_count": 1,
   "id": "81d5a6df-fd9d-4bab-85b7-f58cdc94c9c2",
   "metadata": {},
   "outputs": [
    {
     "name": "stdout",
     "output_type": "stream",
     "text": [
      "Worker thread is running\n",
      "Thread has finished\n"
     ]
    }
   ],
   "source": [
    "import threading\n",
    "\n",
    "def worker():\n",
    "    \"\"\"Thread worker function.\"\"\"\n",
    "    print(\"Worker thread is running\")\n",
    "\n",
    "if __name__ == '__main__':\n",
    "    # Create a thread\n",
    "    thread = threading.Thread(target=worker)\n",
    "    # Start the thread\n",
    "    thread.start()\n",
    "    # Wait for the thread to complete\n",
    "    thread.join()\n",
    "    print(\"Thread has finished\")"
   ]
  },
  {
   "cell_type": "code",
   "execution_count": 3,
   "id": "b043a1b8-2ac0-4690-b2d5-1ebb3eeeaae6",
   "metadata": {},
   "outputs": [
    {
     "name": "stdout",
     "output_type": "stream",
     "text": [
      "Computed square: 0\n",
      "Computed square: 1\n",
      "Computed square: 4\n",
      "Computed square: 9\n",
      "Computed square: 16\n",
      "Results: [0, 1, 4, 9, 16]\n"
     ]
    }
   ],
   "source": [
    "import threading\n",
    "\n",
    "def compute_square(number, results):\n",
    "    \"\"\"Function to compute the square of a number.\"\"\"\n",
    "    result = number * number\n",
    "    results.append(result)\n",
    "    print(f\"Computed square: {result}\")\n",
    "\n",
    "if __name__ == '__main__':\n",
    "    results = []\n",
    "    \n",
    "    # Create and start threads\n",
    "    threads = []\n",
    "    for i in range(5):\n",
    "        thread = threading.Thread(target=compute_square, args=(i, results))\n",
    "        thread.start()\n",
    "        threads.append(thread)\n",
    "    \n",
    "    # Wait for all threads to complete\n",
    "    for thread in threads:\n",
    "        thread.join()\n",
    "    \n",
    "    print(f\"Results: {results}\")"
   ]
  },
  {
   "cell_type": "code",
   "execution_count": 5,
   "id": "496899f6-e07c-43bc-af12-b44e545802fc",
   "metadata": {},
   "outputs": [
    {
     "name": "stdout",
     "output_type": "stream",
     "text": [
      "Final counter value: 10000\n"
     ]
    }
   ],
   "source": [
    "import threading\n",
    "\n",
    "def safe_increment(counter, lock):\n",
    "    \"\"\"Thread-safe increment function.\"\"\"\n",
    "    with lock:\n",
    "        for _ in range(1000):\n",
    "            counter[0] += 1\n",
    "\n",
    "if __name__ == '__main__':\n",
    "    counter = [0]\n",
    "    lock = threading.Lock()\n",
    "    \n",
    "    # Create and start threads\n",
    "    threads = [threading.Thread(target=safe_increment, args=(counter, lock)) for _ in range(10)]\n",
    "    for thread in threads:\n",
    "        thread.start()\n",
    "    \n",
    "    for thread in threads:\n",
    "        thread.join()\n",
    "    \n",
    "    print(f\"Final counter value: {counter[0]}\")"
   ]
  },
  {
   "cell_type": "code",
   "execution_count": 7,
   "id": "5f777c71-d52f-4263-ab95-44365344e50f",
   "metadata": {},
   "outputs": [
    {
     "name": "stdout",
     "output_type": "stream",
     "text": [
      "Waiter is waiting\n",
      "Notifier has notified\n",
      "Waiter is notified\n"
     ]
    }
   ],
   "source": [
    "import threading\n",
    "import time\n",
    "\n",
    "condition = threading.Condition()\n",
    "flag = False\n",
    "\n",
    "def waiter():\n",
    "    \"\"\"Thread that waits for a condition to be met.\"\"\"\n",
    "    with condition:\n",
    "        print(\"Waiter is waiting\")\n",
    "        while not flag:\n",
    "            condition.wait()\n",
    "        print(\"Waiter is notified\")\n",
    "\n",
    "def notifier():\n",
    "    \"\"\"Thread that notifies the condition.\"\"\"\n",
    "    time.sleep(2)\n",
    "    with condition:\n",
    "        global flag\n",
    "        flag = True\n",
    "        condition.notify_all()\n",
    "        print(\"Notifier has notified\")\n",
    "\n",
    "if __name__ == '__main__':\n",
    "    t1 = threading.Thread(target=waiter)\n",
    "    t2 = threading.Thread(target=notifier)\n",
    "    \n",
    "    t1.start()\n",
    "    t2.start()\n",
    "    \n",
    "    t1.join()\n",
    "    t2.join()"
   ]
  },
  {
   "cell_type": "code",
   "execution_count": 9,
   "id": "70cfcd57-43c5-4733-a052-4160c5b4b26d",
   "metadata": {},
   "outputs": [
    {
     "name": "stdout",
     "output_type": "stream",
     "text": [
      "Produced 0\n",
      "Produced 1\n",
      "Produced 2\n",
      "Produced 3\n",
      "Produced 4\n",
      "Consumed 0\n",
      "Consumed 1\n",
      "Consumed 2\n",
      "Consumed 3\n",
      "Consumed 4\n"
     ]
    }
   ],
   "source": [
    "import threading\n",
    "import queue\n",
    "\n",
    "def producer(q):\n",
    "    \"\"\"Function to produce data and put it in the queue.\"\"\"\n",
    "    for i in range(5):\n",
    "        q.put(i)\n",
    "        print(f\"Produced {i}\")\n",
    "\n",
    "def consumer(q):\n",
    "    \"\"\"Function to consume data from the queue.\"\"\"\n",
    "    while True:\n",
    "        item = q.get()\n",
    "        if item is None:\n",
    "            break\n",
    "        print(f\"Consumed {item}\")\n",
    "\n",
    "if __name__ == '__main__':\n",
    "    q = queue.Queue()\n",
    "    \n",
    "    producer_thread = threading.Thread(target=producer, args=(q,))\n",
    "    consumer_thread = threading.Thread(target=consumer, args=(q,))\n",
    "    \n",
    "    producer_thread.start()\n",
    "    consumer_thread.start()\n",
    "    \n",
    "    producer_thread.join()\n",
    "    q.put(None)  # Sentinel value to indicate the end of data\n",
    "    consumer_thread.join()"
   ]
  },
  {
   "cell_type": "code",
   "execution_count": 11,
   "id": "20e51559-29c2-4857-b74c-04aac2bdcafc",
   "metadata": {},
   "outputs": [
    {
     "name": "stdout",
     "output_type": "stream",
     "text": [
      "Worker 0 is computing\n",
      "Worker 1 is computing\n",
      "Worker 2 is computing\n",
      "Result: 0\n",
      "Result: 1\n",
      "Result: 4\n",
      "Worker 3 is computing\n",
      "Worker 4 is computing\n",
      "Result: 9\n",
      "Result: 16\n"
     ]
    }
   ],
   "source": [
    "from concurrent.futures import ThreadPoolExecutor\n",
    "\n",
    "def worker(num):\n",
    "    \"\"\"Worker function that computes the square of a number.\"\"\"\n",
    "    print(f\"Worker {num} is computing\")\n",
    "    return num * num\n",
    "\n",
    "if __name__ == '__main__':\n",
    "    # Create a ThreadPoolExecutor with 3 threads\n",
    "    with ThreadPoolExecutor(max_workers=3) as executor:\n",
    "        # Submit tasks to the pool\n",
    "        futures = [executor.submit(worker, i) for i in range(5)]\n",
    "        \n",
    "        # Retrieve and print results\n",
    "        for future in futures:\n",
    "            result = future.result()\n",
    "            print(f\"Result: {result}\")"
   ]
  },
  {
   "cell_type": "code",
   "execution_count": null,
   "id": "9cb13f5f-4602-4a1f-b0ae-aba27363ee73",
   "metadata": {},
   "outputs": [],
   "source": []
  }
 ],
 "metadata": {
  "kernelspec": {
   "display_name": "Python 3 (ipykernel)",
   "language": "python",
   "name": "python3"
  },
  "language_info": {
   "codemirror_mode": {
    "name": "ipython",
    "version": 3
   },
   "file_extension": ".py",
   "mimetype": "text/x-python",
   "name": "python",
   "nbconvert_exporter": "python",
   "pygments_lexer": "ipython3",
   "version": "3.12.4"
  }
 },
 "nbformat": 4,
 "nbformat_minor": 5
}
