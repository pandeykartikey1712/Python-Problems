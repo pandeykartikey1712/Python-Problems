{
 "cells": [
  {
   "cell_type": "code",
   "execution_count": 1,
   "id": "b6ea88b8-2c21-432c-8729-47f9b1dc3713",
   "metadata": {},
   "outputs": [
    {
     "name": "stdout",
     "output_type": "stream",
     "text": [
      "Matched: hello\n"
     ]
    }
   ],
   "source": [
    "import re\n",
    "\n",
    "pattern = r'hello'\n",
    "text = \"hello world\"\n",
    "\n",
    "# Match at the beginning of the string\n",
    "match = re.match(pattern, text)\n",
    "if match:\n",
    "    print(\"Matched:\", match.group())\n"
   ]
  },
  {
   "cell_type": "code",
   "execution_count": 3,
   "id": "667d795b-8b80-4f07-b849-1e340c92889e",
   "metadata": {},
   "outputs": [
    {
     "name": "stdout",
     "output_type": "stream",
     "text": [
      "Found: world\n"
     ]
    }
   ],
   "source": [
    "pattern = r'world'\n",
    "text = \"hello world\"\n",
    "\n",
    "# Search for pattern anywhere in the string\n",
    "search = re.search(pattern, text)\n",
    "if search:\n",
    "    print(\"Found:\", search.group())"
   ]
  },
  {
   "cell_type": "code",
   "execution_count": 5,
   "id": "1dad4618-3ec1-4905-91b0-5b0cd94a3282",
   "metadata": {},
   "outputs": [
    {
     "name": "stdout",
     "output_type": "stream",
     "text": [
      "All matches: ['2023', '2024']\n"
     ]
    }
   ],
   "source": [
    "pattern = r'\\d+'  # Match one or more digits\n",
    "text = \"The year 2023 is followed by 2024\"\n",
    "\n",
    "# Find all occurrences of the pattern\n",
    "matches = re.findall(pattern, text)\n",
    "print(\"All matches:\", matches)"
   ]
  },
  {
   "cell_type": "code",
   "execution_count": 7,
   "id": "c3aca0b0-86ee-4703-8cc6-f810f284b452",
   "metadata": {},
   "outputs": [
    {
     "name": "stdout",
     "output_type": "stream",
     "text": [
      "Splitted: ['Split', 'this', 'sentence', 'into', 'words']\n"
     ]
    }
   ],
   "source": [
    "pattern = r'\\s+'  # Split by any whitespace\n",
    "text = \"Split this sentence into words\"\n",
    "\n",
    "# Split the string based on pattern\n",
    "split_text = re.split(pattern, text)\n",
    "print(\"Splitted:\", split_text)"
   ]
  },
  {
   "cell_type": "code",
   "execution_count": 9,
   "id": "e5dc4d6b-d42f-4811-8016-88e2c7008f83",
   "metadata": {},
   "outputs": [
    {
     "name": "stdout",
     "output_type": "stream",
     "text": [
      "Replaced text: The year is XXXX, soon it will be XXXX\n"
     ]
    }
   ],
   "source": [
    "pattern = r'\\d{4}'  # Match any 4-digit number\n",
    "text = \"The year is 2023, soon it will be 2024\"\n",
    "\n",
    "# Replace the pattern with a new value\n",
    "new_text = re.sub(pattern, \"XXXX\", text)\n",
    "print(\"Replaced text:\", new_text)"
   ]
  },
  {
   "cell_type": "code",
   "execution_count": 11,
   "id": "0379da2e-fdc2-442c-8ecf-68e4c3051320",
   "metadata": {},
   "outputs": [
    {
     "name": "stdout",
     "output_type": "stream",
     "text": [
      "Year: 2023\n",
      "Month: 09\n",
      "Day: 28\n"
     ]
    }
   ],
   "source": [
    "pattern = r'(\\d{4})-(\\d{2})-(\\d{2})'  # Matches YYYY-MM-DD\n",
    "text = \"The date is 2023-09-28\"\n",
    "\n",
    "# Search for the date pattern\n",
    "match = re.search(pattern, text)\n",
    "if match:\n",
    "    print(\"Year:\", match.group(1))  # First group\n",
    "    print(\"Month:\", match.group(2))  # Second group\n",
    "    print(\"Day:\", match.group(3))  # Third group"
   ]
  },
  {
   "cell_type": "code",
   "execution_count": 13,
   "id": "ee8284b5-8d17-4760-8782-83bf11cc8a51",
   "metadata": {},
   "outputs": [
    {
     "name": "stdout",
     "output_type": "stream",
     "text": [
      "Year: 2023\n",
      "Month: 09\n",
      "Day: 28\n"
     ]
    }
   ],
   "source": [
    "pattern = r'(?P<year>\\d{4})-(?P<month>\\d{2})-(?P<day>\\d{2})'\n",
    "text = \"The date is 2023-09-28\"\n",
    "\n",
    "# Search with named groups\n",
    "match = re.search(pattern, text)\n",
    "if match:\n",
    "    print(\"Year:\", match.group('year'))\n",
    "    print(\"Month:\", match.group('month'))\n",
    "    print(\"Day:\", match.group('day'))"
   ]
  },
  {
   "cell_type": "code",
   "execution_count": 15,
   "id": "6972a545-3c73-4eb7-b4c1-b2472ca7fcf5",
   "metadata": {},
   "outputs": [
    {
     "name": "stdout",
     "output_type": "stream",
     "text": [
      "Domains: ['example.com', 'example.org']\n"
     ]
    }
   ],
   "source": [
    "pattern = r'(?:http|https)://(\\w+\\.\\w+)'\n",
    "text = \"Visit http://example.com or https://example.org\"\n",
    "\n",
    "# Find all domain names\n",
    "matches = re.findall(pattern, text)\n",
    "print(\"Domains:\", matches)"
   ]
  },
  {
   "cell_type": "code",
   "execution_count": 17,
   "id": "b2f22083-45e0-4815-87bd-b77bf7a55a2b",
   "metadata": {},
   "outputs": [
    {
     "name": "stdout",
     "output_type": "stream",
     "text": [
      "Lookahead matches: ['Python', 'regex']\n"
     ]
    }
   ],
   "source": [
    "pattern = r'\\w+(?=\\sis)'  # Match word followed by \" is\"\n",
    "text = \"Python is powerful and regex is fun\"\n",
    "\n",
    "matches = re.findall(pattern, text)\n",
    "print(\"Lookahead matches:\", matches)"
   ]
  },
  {
   "cell_type": "code",
   "execution_count": 19,
   "id": "981b9064-7b9f-4df1-a91f-671bf69fb147",
   "metadata": {},
   "outputs": [
    {
     "name": "stdout",
     "output_type": "stream",
     "text": [
      "Lookbehind matches: ['powerful', 'fun']\n"
     ]
    }
   ],
   "source": [
    "pattern = r'(?<=is\\s)\\w+'  # Match word preceded by \"is \"\n",
    "text = \"Python is powerful and regex is fun\"\n",
    "\n",
    "matches = re.findall(pattern, text)\n",
    "print(\"Lookbehind matches:\", matches)"
   ]
  },
  {
   "cell_type": "code",
   "execution_count": 21,
   "id": "58c2e402-04f6-493a-b38a-751971713058",
   "metadata": {},
   "outputs": [
    {
     "name": "stdout",
     "output_type": "stream",
     "text": [
      "Case-insensitive match: PYTHON\n"
     ]
    }
   ],
   "source": [
    "pattern = r'python'\n",
    "text = \"I love PYTHON programming\"\n",
    "\n",
    "match = re.search(pattern, text, re.IGNORECASE)\n",
    "print(\"Case-insensitive match:\", match.group())"
   ]
  },
  {
   "cell_type": "code",
   "execution_count": 23,
   "id": "1535a5be-9221-44cb-8c0f-eaeec6e09749",
   "metadata": {},
   "outputs": [
    {
     "name": "stdout",
     "output_type": "stream",
     "text": [
      "Multiline matches: ['hello', 'hello']\n"
     ]
    }
   ],
   "source": [
    "pattern = r'^hello'\n",
    "text = \"\"\"hello world\n",
    "this is a test\n",
    "hello again\"\"\"\n",
    "\n",
    "matches = re.findall(pattern, text, re.MULTILINE)\n",
    "print(\"Multiline matches:\", matches)"
   ]
  },
  {
   "cell_type": "code",
   "execution_count": 25,
   "id": "6b93da5a-f382-4a16-b8d4-87c9803e270e",
   "metadata": {},
   "outputs": [
    {
     "name": "stdout",
     "output_type": "stream",
     "text": [
      "Greedy match: <div>content</div>\n"
     ]
    }
   ],
   "source": [
    "pattern = r'<.*>'  # Match everything between < and >\n",
    "text = \"<div>content</div>\"\n",
    "\n",
    "match = re.search(pattern, text)\n",
    "print(\"Greedy match:\", match.group())"
   ]
  },
  {
   "cell_type": "code",
   "execution_count": 27,
   "id": "c1e05a87-79b0-4dd6-8c28-5dad3317b322",
   "metadata": {},
   "outputs": [
    {
     "name": "stdout",
     "output_type": "stream",
     "text": [
      "Non-greedy match: <div>\n"
     ]
    }
   ],
   "source": [
    "pattern = r'<.*?>'  # Match as little as possible between < and >\n",
    "text = \"<div>content</div>\"\n",
    "\n",
    "match = re.search(pattern, text)\n",
    "print(\"Non-greedy match:\", match.group())"
   ]
  },
  {
   "cell_type": "code",
   "execution_count": 29,
   "id": "d829fd3a-5c35-4ac7-8101-884615a13778",
   "metadata": {},
   "outputs": [
    {
     "name": "stdout",
     "output_type": "stream",
     "text": [
      "Matches: ['3', '10']\n"
     ]
    }
   ],
   "source": [
    "pattern = re.compile(r'\\d+')\n",
    "\n",
    "# Search for numbers\n",
    "text = \"There are 3 apples and 10 bananas\"\n",
    "matches = pattern.findall(text)\n",
    "print(\"Matches:\", matches)"
   ]
  },
  {
   "cell_type": "code",
   "execution_count": 31,
   "id": "8ab37761-68c7-479c-950a-c3a769db98b5",
   "metadata": {},
   "outputs": [
    {
     "name": "stdout",
     "output_type": "stream",
     "text": [
      "Year: 2023\n",
      "Month: 09\n",
      "Day: 28\n"
     ]
    }
   ],
   "source": [
    "pattern = re.compile(r'''\n",
    "    (\\d{4})  # Match 4 digits (year)\n",
    "    -        # Hyphen\n",
    "    (\\d{2})  # Match 2 digits (month)\n",
    "    -        # Hyphen\n",
    "    (\\d{2})  # Match 2 digits (day)\n",
    "''', re.VERBOSE)\n",
    "\n",
    "text = \"Today's date is 2023-09-28\"\n",
    "match = pattern.search(text)\n",
    "if match:\n",
    "    print(\"Year:\", match.group(1))\n",
    "    print(\"Month:\", match.group(2))\n",
    "    print(\"Day:\", match.group(3))"
   ]
  },
  {
   "cell_type": "code",
   "execution_count": 33,
   "id": "3be3bee3-544c-4b50-a468-18feb1d41172",
   "metadata": {},
   "outputs": [
    {
     "name": "stdout",
     "output_type": "stream",
     "text": [
      "Updated text: The year is 2024\n"
     ]
    }
   ],
   "source": [
    "def replace_year(match):\n",
    "    year = int(match.group())\n",
    "    return str(year + 1)\n",
    "\n",
    "pattern = r'\\d{4}'\n",
    "text = \"The year is 2023\"\n",
    "\n",
    "# Increment the year by 1\n",
    "new_text = re.sub(pattern, replace_year, text)\n",
    "print(\"Updated text:\", new_text)"
   ]
  },
  {
   "cell_type": "code",
   "execution_count": null,
   "id": "7dc4e01f-c870-44e8-baec-e6ecb37a705a",
   "metadata": {},
   "outputs": [],
   "source": []
  }
 ],
 "metadata": {
  "kernelspec": {
   "display_name": "Python 3 (ipykernel)",
   "language": "python",
   "name": "python3"
  },
  "language_info": {
   "codemirror_mode": {
    "name": "ipython",
    "version": 3
   },
   "file_extension": ".py",
   "mimetype": "text/x-python",
   "name": "python",
   "nbconvert_exporter": "python",
   "pygments_lexer": "ipython3",
   "version": "3.12.4"
  }
 },
 "nbformat": 4,
 "nbformat_minor": 5
}
