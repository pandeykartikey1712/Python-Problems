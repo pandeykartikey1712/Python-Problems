{
 "cells": [
  {
   "cell_type": "code",
   "execution_count": 3,
   "id": "be4c6eca-a9e6-4314-8a24-be289eb16a48",
   "metadata": {},
   "outputs": [
    {
     "name": "stdout",
     "output_type": "stream",
     "text": [
      "Note: you may need to restart the kernel to use updated packages.\n"
     ]
    },
    {
     "name": "stderr",
     "output_type": "stream",
     "text": [
      "ERROR: Could not find a version that satisfies the requirement telnet (from versions: none)\n",
      "ERROR: No matching distribution found for telnet\n"
     ]
    }
   ],
   "source": [
    "pip install telnet"
   ]
  },
  {
   "cell_type": "code",
   "execution_count": 7,
   "id": "69b7869a-0e55-485c-9dec-a2a476bafa26",
   "metadata": {},
   "outputs": [
    {
     "name": "stdout",
     "output_type": "stream",
     "text": [
      "An error occurred: [WinError 10060] A connection attempt failed because the connected party did not properly respond after a period of time, or established connection failed because connected host has failed to respond\n"
     ]
    }
   ],
   "source": [
    "import telnetlib\n",
    "\n",
    "def telnet_example(host, port, command):\n",
    "    try:\n",
    "        # Connect to the server\n",
    "        tn = telnetlib.Telnet(host, port)\n",
    "        \n",
    "        # Send a command\n",
    "        tn.write(command.encode('ascii') + b\"\\n\")\n",
    "        \n",
    "        # Read the response\n",
    "        response = tn.read_all().decode('ascii')\n",
    "        \n",
    "        print(\"Response from Telnet server:\")\n",
    "        print(response)\n",
    "        \n",
    "        tn.close()\n",
    "    except Exception as e:\n",
    "        print(f\"An error occurred: {e}\")\n",
    "\n",
    "# Example usage\n",
    "telnet_example('example.com', 23, 'HELP')"
   ]
  },
  {
   "cell_type": "code",
   "execution_count": 9,
   "id": "2de728a9-619e-41fd-8009-b174c8957727",
   "metadata": {},
   "outputs": [
    {
     "name": "stdout",
     "output_type": "stream",
     "text": [
      "An error occurred: [Errno 11001] getaddrinfo failed\n"
     ]
    }
   ],
   "source": [
    "from ftplib import FTP\n",
    "\n",
    "def ftp_example(host, username, password):\n",
    "    try:\n",
    "        # Connect to the FTP server\n",
    "        ftp = FTP(host)\n",
    "        ftp.login(username, password)\n",
    "        \n",
    "        # List files in the current directory\n",
    "        files = ftp.nlst()\n",
    "        print(\"Files in FTP directory:\")\n",
    "        for file in files:\n",
    "            print(file)\n",
    "        \n",
    "        # Upload a file\n",
    "        with open('test.txt', 'rb') as file:\n",
    "            ftp.storbinary('STOR test.txt', file)\n",
    "        \n",
    "        # Download a file\n",
    "        with open('downloaded_test.txt', 'wb') as file:\n",
    "            ftp.retrbinary('RETR test.txt', file.write)\n",
    "        \n",
    "        ftp.quit()\n",
    "    except Exception as e:\n",
    "        print(f\"An error occurred: {e}\")\n",
    "\n",
    "# Example usage\n",
    "ftp_example('ftp.example.com', 'username', 'password')"
   ]
  },
  {
   "cell_type": "code",
   "execution_count": 11,
   "id": "f437a6a9-d1a5-4d63-a15d-42f5b99fb58c",
   "metadata": {},
   "outputs": [
    {
     "name": "stderr",
     "output_type": "stream",
     "text": [
      "C:\\Users\\ganjum\\AppData\\Local\\anaconda3\\Lib\\site-packages\\paramiko\\transport.py:219: CryptographyDeprecationWarning: Blowfish has been deprecated and will be removed in a future release\n",
      "  \"class\": algorithms.Blowfish,\n"
     ]
    },
    {
     "name": "stdout",
     "output_type": "stream",
     "text": [
      "An error occurred: [WinError 10060] A connection attempt failed because the connected party did not properly respond after a period of time, or established connection failed because connected host has failed to respond\n"
     ]
    }
   ],
   "source": [
    "import paramiko\n",
    "\n",
    "def ssh_example(host, port, username, password, command):\n",
    "    try:\n",
    "        # Create an SSH client\n",
    "        ssh = paramiko.SSHClient()\n",
    "        ssh.set_missing_host_key_policy(paramiko.AutoAddPolicy())\n",
    "        \n",
    "        # Connect to the server\n",
    "        ssh.connect(host, port, username, password)\n",
    "        \n",
    "        # Execute a command\n",
    "        stdin, stdout, stderr = ssh.exec_command(command)\n",
    "        response = stdout.read().decode()\n",
    "        print(\"Response from SSH server:\")\n",
    "        print(response)\n",
    "        \n",
    "        ssh.close()\n",
    "    except Exception as e:\n",
    "        print(f\"An error occurred: {e}\")\n",
    "\n",
    "# Example usage\n",
    "ssh_example('example.com', 22, 'username', 'password', 'ls -l')"
   ]
  },
  {
   "cell_type": "code",
   "execution_count": 12,
   "id": "600cfa96-fdaf-41d8-bf34-72d350bb0e2d",
   "metadata": {},
   "outputs": [
    {
     "ename": "ModuleNotFoundError",
     "evalue": "No module named 'scp'",
     "output_type": "error",
     "traceback": [
      "\u001b[1;31m---------------------------------------------------------------------------\u001b[0m",
      "\u001b[1;31mModuleNotFoundError\u001b[0m                       Traceback (most recent call last)",
      "Cell \u001b[1;32mIn[12], line 2\u001b[0m\n\u001b[0;32m      1\u001b[0m \u001b[38;5;28;01mfrom\u001b[39;00m \u001b[38;5;21;01mparamiko\u001b[39;00m \u001b[38;5;28;01mimport\u001b[39;00m SSHClient\n\u001b[1;32m----> 2\u001b[0m \u001b[38;5;28;01mfrom\u001b[39;00m \u001b[38;5;21;01mscp\u001b[39;00m \u001b[38;5;28;01mimport\u001b[39;00m SCPClient\n\u001b[0;32m      4\u001b[0m \u001b[38;5;28;01mdef\u001b[39;00m \u001b[38;5;21mscp_example\u001b[39m(host, port, username, password, local_file, remote_file):\n\u001b[0;32m      5\u001b[0m     \u001b[38;5;28;01mtry\u001b[39;00m:\n\u001b[0;32m      6\u001b[0m         \u001b[38;5;66;03m# Create an SSH client\u001b[39;00m\n",
      "\u001b[1;31mModuleNotFoundError\u001b[0m: No module named 'scp'"
     ]
    }
   ],
   "source": [
    "from paramiko import SSHClient\n",
    "from scp import SCPClient\n",
    "\n",
    "def scp_example(host, port, username, password, local_file, remote_file):\n",
    "    try:\n",
    "        # Create an SSH client\n",
    "        ssh = SSHClient()\n",
    "        ssh.set_missing_host_key_policy(paramiko.AutoAddPolicy())\n",
    "        ssh.connect(host, port, username, password)\n",
    "        \n",
    "        # Use SCP to transfer files\n",
    "        with SCPClient(ssh.get_transport()) as scp:\n",
    "            scp.put(local_file, remote_file)\n",
    "            print(f\"File {local_file} uploaded to {remote_file}\")\n",
    "        \n",
    "        ssh.close()\n",
    "    except Exception as e:\n",
    "        print(f\"An error occurred: {e}\")\n",
    "\n",
    "# Example usage\n",
    "scp_example('example.com', 22, 'username', 'password', 'local_file.txt', 'remote_file.txt')"
   ]
  },
  {
   "cell_type": "code",
   "execution_count": 14,
   "id": "1055942b-3797-4d3a-8f48-106ea1c30c8e",
   "metadata": {},
   "outputs": [
    {
     "name": "stdout",
     "output_type": "stream",
     "text": [
      "An error occurred: [Errno 11001] getaddrinfo failed\n"
     ]
    }
   ],
   "source": [
    "import smtplib\n",
    "from email.mime.text import MIMEText\n",
    "\n",
    "def smtp_example(smtp_server, smtp_port, username, password, to_email, subject, body):\n",
    "    try:\n",
    "        # Create a text/plain message\n",
    "        msg = MIMEText(body)\n",
    "        msg['Subject'] = subject\n",
    "        msg['From'] = username\n",
    "        msg['To'] = to_email\n",
    "        \n",
    "        # Connect to the SMTP server and send email\n",
    "        with smtplib.SMTP_SSL(smtp_server, smtp_port) as server:\n",
    "            server.login(username, password)\n",
    "            server.sendmail(username, [to_email], msg.as_string())\n",
    "        \n",
    "        print(f\"Email sent to {to_email}\")\n",
    "    except Exception as e:\n",
    "        print(f\"An error occurred: {e}\")\n",
    "\n",
    "# Example usage\n",
    "smtp_example('smtp.example.com', 465, 'your_email@example.com', 'your_password', 'recipient@example.com', 'Subject', 'Email body text')"
   ]
  },
  {
   "cell_type": "code",
   "execution_count": 16,
   "id": "beed3914-68c5-48b5-b4c8-36741e665fb2",
   "metadata": {},
   "outputs": [
    {
     "name": "stdout",
     "output_type": "stream",
     "text": [
      "Command Output:\n",
      "\n",
      "Command Error (if any):\n",
      "'ls' is not recognized as an internal or external command,\n",
      "operable program or batch file.\n",
      "\n"
     ]
    }
   ],
   "source": [
    "import subprocess\n",
    "\n",
    "def subprocess_example(command):\n",
    "    try:\n",
    "        # Run a command and get output\n",
    "        result = subprocess.run(command, shell=True, text=True, capture_output=True)\n",
    "        print(\"Command Output:\")\n",
    "        print(result.stdout)\n",
    "        print(\"Command Error (if any):\")\n",
    "        print(result.stderr)\n",
    "    except Exception as e:\n",
    "        print(f\"An error occurred: {e}\")\n",
    "\n",
    "# Example usage\n",
    "subprocess_example('ls -l')\n"
   ]
  },
  {
   "cell_type": "code",
   "execution_count": 18,
   "id": "8ca52bb0-f6f3-48a5-b3df-c0aa4d592e86",
   "metadata": {},
   "outputs": [
    {
     "name": "stdout",
     "output_type": "stream",
     "text": [
      "Current Working Directory: C:\\Users\\ganjum\n",
      "Files in Directory:\n",
      ".anaconda\n",
      ".astropy\n",
      ".cisco\n",
      ".conda\n",
      ".condarc\n",
      ".continuum\n",
      ".gitconfig\n",
      ".ipynb_checkpoints\n",
      ".ipython\n",
      ".jupyter\n",
      ".vscode\n",
      "AppData\n",
      "Application Data\n",
      "asynico.ipynb\n",
      "basic.ipynb\n",
      "Contacts\n",
      "Cookies\n",
      "data.json\n",
      "data.pkl\n",
      "deployment.log\n",
      "Documents\n",
      "Downloads\n",
      "example.log\n",
      "Favorites\n",
      "IntelGraphicsProfiles\n",
      "Links\n",
      "Local Settings\n",
      "Music\n",
      "My Documents\n",
      "mytextfile.txt\n",
      "NetHood\n",
      "NTUSER.DAT\n",
      "ntuser.dat.LOG1\n",
      "ntuser.dat.LOG2\n",
      "NTUSER.DAT{a2332f18-cdbf-11ec-8680-002248483d79}.TM.blf\n",
      "NTUSER.DAT{a2332f18-cdbf-11ec-8680-002248483d79}.TMContainer00000000000000000001.regtrans-ms\n",
      "NTUSER.DAT{a2332f18-cdbf-11ec-8680-002248483d79}.TMContainer00000000000000000002.regtrans-ms\n",
      "ntuser.ini\n",
      "OneDrive\n",
      "OneDrive - Cisco\n",
      "PrintHood\n",
      "Recent\n",
      "sample.txt\n",
      "Saved Games\n",
      "Searches\n",
      "SendTo\n",
      "Start Menu\n",
      "Templates\n",
      "Untitled.ipynb\n",
      "untitled.py\n",
      "Untitled1.ipynb\n",
      "Untitled2.ipynb\n",
      "Videos\n",
      "web scraping.ipynb\n",
      "Directory 'new_directory' created\n",
      "Directory 'new_directory' removed\n"
     ]
    }
   ],
   "source": [
    "import os\n",
    "\n",
    "def os_example():\n",
    "    try:\n",
    "        # Get the current working directory\n",
    "        cwd = os.getcwd()\n",
    "        print(f\"Current Working Directory: {cwd}\")\n",
    "\n",
    "        # List files in the current directory\n",
    "        files = os.listdir(cwd)\n",
    "        print(\"Files in Directory:\")\n",
    "        for file in files:\n",
    "            print(file)\n",
    "\n",
    "        # Create a new directory\n",
    "        new_dir = 'new_directory'\n",
    "        os.mkdir(new_dir)\n",
    "        print(f\"Directory '{new_dir}' created\")\n",
    "\n",
    "        # Remove the directory\n",
    "        os.rmdir(new_dir)\n",
    "        print(f\"Directory '{new_dir}' removed\")\n",
    "    except Exception as e:\n",
    "        print(f\"An error occurred: {e}\")\n",
    "\n",
    "# Example usage\n",
    "os_example()"
   ]
  },
  {
   "cell_type": "code",
   "execution_count": null,
   "id": "c91f8696-60ad-48e9-b952-bf74c91ed7a2",
   "metadata": {},
   "outputs": [],
   "source": []
  }
 ],
 "metadata": {
  "kernelspec": {
   "display_name": "Python 3 (ipykernel)",
   "language": "python",
   "name": "python3"
  },
  "language_info": {
   "codemirror_mode": {
    "name": "ipython",
    "version": 3
   },
   "file_extension": ".py",
   "mimetype": "text/x-python",
   "name": "python",
   "nbconvert_exporter": "python",
   "pygments_lexer": "ipython3",
   "version": "3.12.4"
  }
 },
 "nbformat": 4,
 "nbformat_minor": 5
}
