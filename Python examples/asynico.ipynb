{
 "cells": [
  {
   "cell_type": "code",
   "execution_count": 1,
   "id": "9cc16af5-15a9-4c45-8553-d72b5c504b2c",
   "metadata": {},
   "outputs": [
    {
     "ename": "RuntimeError",
     "evalue": "This event loop is already running",
     "output_type": "error",
     "traceback": [
      "\u001b[1;31m---------------------------------------------------------------------------\u001b[0m",
      "\u001b[1;31mRuntimeError\u001b[0m                              Traceback (most recent call last)",
      "Cell \u001b[1;32mIn[1], line 14\u001b[0m\n\u001b[0;32m     12\u001b[0m \u001b[38;5;28;01mif\u001b[39;00m \u001b[38;5;18m__name__\u001b[39m \u001b[38;5;241m==\u001b[39m \u001b[38;5;124m'\u001b[39m\u001b[38;5;124m__main__\u001b[39m\u001b[38;5;124m'\u001b[39m:\n\u001b[0;32m     13\u001b[0m     loop \u001b[38;5;241m=\u001b[39m asyncio\u001b[38;5;241m.\u001b[39mget_event_loop()\n\u001b[1;32m---> 14\u001b[0m     loop\u001b[38;5;241m.\u001b[39mrun_until_complete(main())\n",
      "File \u001b[1;32m~\\AppData\\Local\\anaconda3\\Lib\\asyncio\\base_events.py:663\u001b[0m, in \u001b[0;36mBaseEventLoop.run_until_complete\u001b[1;34m(self, future)\u001b[0m\n\u001b[0;32m    652\u001b[0m \u001b[38;5;250m\u001b[39m\u001b[38;5;124;03m\"\"\"Run until the Future is done.\u001b[39;00m\n\u001b[0;32m    653\u001b[0m \n\u001b[0;32m    654\u001b[0m \u001b[38;5;124;03mIf the argument is a coroutine, it is wrapped in a Task.\u001b[39;00m\n\u001b[1;32m   (...)\u001b[0m\n\u001b[0;32m    660\u001b[0m \u001b[38;5;124;03mReturn the Future's result, or raise its exception.\u001b[39;00m\n\u001b[0;32m    661\u001b[0m \u001b[38;5;124;03m\"\"\"\u001b[39;00m\n\u001b[0;32m    662\u001b[0m \u001b[38;5;28mself\u001b[39m\u001b[38;5;241m.\u001b[39m_check_closed()\n\u001b[1;32m--> 663\u001b[0m \u001b[38;5;28mself\u001b[39m\u001b[38;5;241m.\u001b[39m_check_running()\n\u001b[0;32m    665\u001b[0m new_task \u001b[38;5;241m=\u001b[39m \u001b[38;5;129;01mnot\u001b[39;00m futures\u001b[38;5;241m.\u001b[39misfuture(future)\n\u001b[0;32m    666\u001b[0m future \u001b[38;5;241m=\u001b[39m tasks\u001b[38;5;241m.\u001b[39mensure_future(future, loop\u001b[38;5;241m=\u001b[39m\u001b[38;5;28mself\u001b[39m)\n",
      "File \u001b[1;32m~\\AppData\\Local\\anaconda3\\Lib\\asyncio\\base_events.py:622\u001b[0m, in \u001b[0;36mBaseEventLoop._check_running\u001b[1;34m(self)\u001b[0m\n\u001b[0;32m    620\u001b[0m \u001b[38;5;28;01mdef\u001b[39;00m \u001b[38;5;21m_check_running\u001b[39m(\u001b[38;5;28mself\u001b[39m):\n\u001b[0;32m    621\u001b[0m     \u001b[38;5;28;01mif\u001b[39;00m \u001b[38;5;28mself\u001b[39m\u001b[38;5;241m.\u001b[39mis_running():\n\u001b[1;32m--> 622\u001b[0m         \u001b[38;5;28;01mraise\u001b[39;00m \u001b[38;5;167;01mRuntimeError\u001b[39;00m(\u001b[38;5;124m'\u001b[39m\u001b[38;5;124mThis event loop is already running\u001b[39m\u001b[38;5;124m'\u001b[39m)\n\u001b[0;32m    623\u001b[0m     \u001b[38;5;28;01mif\u001b[39;00m events\u001b[38;5;241m.\u001b[39m_get_running_loop() \u001b[38;5;129;01mis\u001b[39;00m \u001b[38;5;129;01mnot\u001b[39;00m \u001b[38;5;28;01mNone\u001b[39;00m:\n\u001b[0;32m    624\u001b[0m         \u001b[38;5;28;01mraise\u001b[39;00m \u001b[38;5;167;01mRuntimeError\u001b[39;00m(\n\u001b[0;32m    625\u001b[0m             \u001b[38;5;124m'\u001b[39m\u001b[38;5;124mCannot run the event loop while another loop is running\u001b[39m\u001b[38;5;124m'\u001b[39m)\n",
      "\u001b[1;31mRuntimeError\u001b[0m: This event loop is already running"
     ]
    }
   ],
   "source": [
    "import asyncio\n",
    "\n",
    "async def say_hello():\n",
    "    print(\"Hello\")\n",
    "    await asyncio.sleep(1)\n",
    "    print(\"World\")\n",
    "\n",
    "async def main():\n",
    "    await say_hello()\n",
    "\n",
    "# Run the event loop\n",
    "if __name__ == '__main__':\n",
    "    loop = asyncio.get_event_loop()\n",
    "    loop.run_until_complete(main())\n",
    "    "
   ]
  },
  {
   "cell_type": "code",
   "execution_count": 3,
   "id": "00814484-56bd-4441-afbb-28343a1cb6c1",
   "metadata": {},
   "outputs": [
    {
     "name": "stdout",
     "output_type": "stream",
     "text": [
      "Hello\n",
      "World\n"
     ]
    }
   ],
   "source": [
    "import asyncio\n",
    "import nest_asyncio\n",
    "\n",
    "# Apply the nest_asyncio patch\n",
    "nest_asyncio.apply()\n",
    "\n",
    "async def say_hello():\n",
    "    print(\"Hello\")\n",
    "    await asyncio.sleep(1)\n",
    "    print(\"World\")\n",
    "\n",
    "async def main():\n",
    "    await say_hello()\n",
    "\n",
    "# Run the event loop\n",
    "await main()"
   ]
  },
  {
   "cell_type": "code",
   "execution_count": 5,
   "id": "c8982852-3387-4c01-891b-04fc19d16550",
   "metadata": {},
   "outputs": [
    {
     "name": "stdout",
     "output_type": "stream",
     "text": [
      "Task 1 started\n",
      "Task 2 started\n",
      "Task 2 completed\n",
      "Task 1 completed\n"
     ]
    }
   ],
   "source": [
    "import asyncio\n",
    "\n",
    "async def task1():\n",
    "    print(\"Task 1 started\")\n",
    "    await asyncio.sleep(2)\n",
    "    print(\"Task 1 completed\")\n",
    "\n",
    "async def task2():\n",
    "    print(\"Task 2 started\")\n",
    "    await asyncio.sleep(1)\n",
    "    print(\"Task 2 completed\")\n",
    "\n",
    "async def main():\n",
    "    # Create tasks\n",
    "    t1 = asyncio.create_task(task1())\n",
    "    t2 = asyncio.create_task(task2())\n",
    "    \n",
    "    # Wait for both tasks to complete\n",
    "    await t1\n",
    "    await t2\n",
    "\n",
    "# Run the event loop\n",
    "if __name__ == '__main__':\n",
    "    asyncio.run(main())"
   ]
  },
  {
   "cell_type": "code",
   "execution_count": 7,
   "id": "6b444b1b-9a74-4fcf-875b-d2158d75b607",
   "metadata": {},
   "outputs": [
    {
     "name": "stdout",
     "output_type": "stream",
     "text": [
      "Producing result...\n",
      "Waiting for result...\n",
      "Received: Result produced\n"
     ]
    }
   ],
   "source": [
    "import asyncio\n",
    "\n",
    "async def produce(future):\n",
    "    print(\"Producing result...\")\n",
    "    await asyncio.sleep(1)\n",
    "    future.set_result(\"Result produced\")\n",
    "\n",
    "async def consume(future):\n",
    "    print(\"Waiting for result...\")\n",
    "    result = await future\n",
    "    print(f\"Received: {result}\")\n",
    "\n",
    "async def main():\n",
    "    future = asyncio.Future()\n",
    "    \n",
    "    producer = asyncio.create_task(produce(future))\n",
    "    consumer = asyncio.create_task(consume(future))\n",
    "    \n",
    "    await producer\n",
    "    await consumer\n",
    "\n",
    "# Run the event loop\n",
    "if __name__ == '__main__':\n",
    "    asyncio.run(main())"
   ]
  },
  {
   "cell_type": "code",
   "execution_count": 9,
   "id": "958ce8a1-0a16-4abd-af64-1e16a5c6718d",
   "metadata": {},
   "outputs": [
    {
     "name": "stdout",
     "output_type": "stream",
     "text": [
      "Task 1 entered critical section\n",
      "Task 1 leaving critical section\n",
      "Task 2 entered critical section\n",
      "Task 2 leaving critical section\n",
      "Task 3 entered critical section\n",
      "Task 3 leaving critical section\n"
     ]
    }
   ],
   "source": [
    "import asyncio\n",
    "\n",
    "async def critical_section(lock, name):\n",
    "    async with lock:\n",
    "        print(f\"{name} entered critical section\")\n",
    "        await asyncio.sleep(1)\n",
    "        print(f\"{name} leaving critical section\")\n",
    "\n",
    "async def main():\n",
    "    lock = asyncio.Lock()\n",
    "    \n",
    "    # Create multiple tasks that use the lock\n",
    "    tasks = [\n",
    "        asyncio.create_task(critical_section(lock, \"Task 1\")),\n",
    "        asyncio.create_task(critical_section(lock, \"Task 2\")),\n",
    "        asyncio.create_task(critical_section(lock, \"Task 3\")),\n",
    "    ]\n",
    "    \n",
    "    # Wait for all tasks to complete\n",
    "    await asyncio.gather(*tasks)\n",
    "\n",
    "# Run the event loop\n",
    "if __name__ == '__main__':\n",
    "    asyncio.run(main())"
   ]
  },
  {
   "cell_type": "code",
   "execution_count": null,
   "id": "37bc4d0d-bb5e-4bf2-9149-53fce94fc1c8",
   "metadata": {},
   "outputs": [],
   "source": []
  }
 ],
 "metadata": {
  "kernelspec": {
   "display_name": "Python 3 (ipykernel)",
   "language": "python",
   "name": "python3"
  },
  "language_info": {
   "codemirror_mode": {
    "name": "ipython",
    "version": 3
   },
   "file_extension": ".py",
   "mimetype": "text/x-python",
   "name": "python",
   "nbconvert_exporter": "python",
   "pygments_lexer": "ipython3",
   "version": "3.12.4"
  }
 },
 "nbformat": 4,
 "nbformat_minor": 5
}
