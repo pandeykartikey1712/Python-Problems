{
 "cells": [
  {
   "cell_type": "code",
   "execution_count": 1,
   "id": "53d3676e-0f16-42dc-9bb1-b1467fbd9594",
   "metadata": {},
   "outputs": [
    {
     "name": "stdout",
     "output_type": "stream",
     "text": [
      "Python version: 3.12.4 | packaged by Anaconda, Inc. | (main, Jun 18 2024, 15:03:56) [MSC v.1929 64 bit (AMD64)]\n",
      "Command line arguments: ['C:\\\\Users\\\\ganjum\\\\AppData\\\\Local\\\\anaconda3\\\\Lib\\\\site-packages\\\\ipykernel_launcher.py', '-f', 'C:\\\\Users\\\\ganjum\\\\AppData\\\\Roaming\\\\jupyter\\\\runtime\\\\kernel-26f8c771-0686-4147-93f8-c65671fd8389.json']\n",
      "Usage: python 01.ipynb <name>\n"
     ]
    },
    {
     "ename": "SystemExit",
     "evalue": "1",
     "output_type": "error",
     "traceback": [
      "An exception has occurred, use %tb to see the full traceback.\n",
      "\u001b[1;31mSystemExit\u001b[0m\u001b[1;31m:\u001b[0m 1\n"
     ]
    },
    {
     "name": "stderr",
     "output_type": "stream",
     "text": [
      "C:\\Users\\ganjum\\AppData\\Local\\anaconda3\\Lib\\site-packages\\IPython\\core\\interactiveshell.py:3585: UserWarning: To exit: use 'exit', 'quit', or Ctrl-D.\n",
      "  warn(\"To exit: use 'exit', 'quit', or Ctrl-D.\", stacklevel=1)\n"
     ]
    }
   ],
   "source": [
    "import sys\n",
    "\n",
    "def sys_example():\n",
    "    # Print Python version\n",
    "    print(\"Python version:\", sys.version)\n",
    "\n",
    "    # Print command line arguments\n",
    "    print(\"Command line arguments:\", sys.argv)\n",
    "\n",
    "    # Exit the program\n",
    "    if len(sys.argv) != 2:\n",
    "        print(\"Usage: python 01.ipynb <name>\")\n",
    "        sys.exit(1)\n",
    "\n",
    "    name = sys.argv[1]\n",
    "    print(f\"Hello, {name}!\")\n",
    "\n",
    "if __name__ == \"__main__\":\n",
    "    sys_example()"
   ]
  },
  {
   "cell_type": "code",
   "execution_count": 3,
   "id": "02d2ce8a-ebfe-4f84-bf02-5c79065ada88",
   "metadata": {},
   "outputs": [
    {
     "name": "stdout",
     "output_type": "stream",
     "text": [
      "Current Working Directory: C:\\Users\\ganjum\n",
      "Files in Directory:\n",
      ".anaconda\n",
      ".astropy\n",
      ".cisco\n",
      ".conda\n",
      ".condarc\n",
      ".continuum\n",
      ".gitconfig\n",
      ".ipynb_checkpoints\n",
      ".ipython\n",
      ".jupyter\n",
      ".vscode\n",
      "AppData\n",
      "Application Data\n",
      "asynico.ipynb\n",
      "basic.ipynb\n",
      "Contacts\n",
      "Cookies\n",
      "data.json\n",
      "data.pkl\n",
      "deployment.log\n",
      "Documents\n",
      "Downloads\n",
      "example.log\n",
      "Favorites\n",
      "IntelGraphicsProfiles\n",
      "Links\n",
      "Local Settings\n",
      "Music\n",
      "My Documents\n",
      "mytextfile.txt\n",
      "NetHood\n",
      "network automation.ipynb\n",
      "NTUSER.DAT\n",
      "ntuser.dat.LOG1\n",
      "ntuser.dat.LOG2\n",
      "NTUSER.DAT{a2332f18-cdbf-11ec-8680-002248483d79}.TM.blf\n",
      "NTUSER.DAT{a2332f18-cdbf-11ec-8680-002248483d79}.TMContainer00000000000000000001.regtrans-ms\n",
      "NTUSER.DAT{a2332f18-cdbf-11ec-8680-002248483d79}.TMContainer00000000000000000002.regtrans-ms\n",
      "ntuser.ini\n",
      "OneDrive\n",
      "OneDrive - Cisco\n",
      "PrintHood\n",
      "Recent\n",
      "sample.txt\n",
      "Saved Games\n",
      "Searches\n",
      "SendTo\n",
      "Start Menu\n",
      "Templates\n",
      "Untitled.ipynb\n",
      "untitled.py\n",
      "Untitled1.ipynb\n",
      "Untitled2.ipynb\n",
      "Videos\n",
      "web scraping.ipynb\n",
      "Directory 'test_directory' created\n",
      "Directory 'test_directory' removed\n"
     ]
    }
   ],
   "source": [
    "import os\n",
    "\n",
    "def os_example():\n",
    "    # Get the current working directory\n",
    "    cwd = os.getcwd()\n",
    "    print(\"Current Working Directory:\", cwd)\n",
    "\n",
    "    # List files in the current directory\n",
    "    files = os.listdir(cwd)\n",
    "    print(\"Files in Directory:\")\n",
    "    for file in files:\n",
    "        print(file)\n",
    "\n",
    "    # Create a new directory\n",
    "    new_dir = 'test_directory'\n",
    "    os.makedirs(new_dir, exist_ok=True)\n",
    "    print(f\"Directory '{new_dir}' created\")\n",
    "\n",
    "    # Remove the directory\n",
    "    os.rmdir(new_dir)\n",
    "    print(f\"Directory '{new_dir}' removed\")\n",
    "\n",
    "if __name__ == \"__main__\":\n",
    "    os_example()"
   ]
  },
  {
   "cell_type": "code",
   "execution_count": 5,
   "id": "1344fd22-eb86-492c-b58f-253ff27ea235",
   "metadata": {},
   "outputs": [
    {
     "name": "stdout",
     "output_type": "stream",
     "text": [
      "Loaded Data: {'name': 'John', 'age': 30, 'city': 'New York'}\n"
     ]
    }
   ],
   "source": [
    "import pickle\n",
    "\n",
    "def pickle_example():\n",
    "    data = {'name': 'John', 'age': 30, 'city': 'New York'}\n",
    "\n",
    "    # Serialize data to a file\n",
    "    with open('data.pkl', 'wb') as file:\n",
    "        pickle.dump(data, file)\n",
    "\n",
    "    # Deserialize data from the file\n",
    "    with open('data.pkl', 'rb') as file:\n",
    "        loaded_data = pickle.load(file)\n",
    "\n",
    "    print(\"Loaded Data:\", loaded_data)\n",
    "\n",
    "if __name__ == \"__main__\":\n",
    "    pickle_example()"
   ]
  },
  {
   "cell_type": "code",
   "execution_count": 7,
   "id": "6d1efc4e-0cde-4c2b-8678-f97615fef258",
   "metadata": {},
   "outputs": [
    {
     "name": "stdout",
     "output_type": "stream",
     "text": [
      "Loaded Data: {'name': 'Jane', 'age': 25, 'city': 'London'}\n"
     ]
    }
   ],
   "source": [
    "import json\n",
    "\n",
    "def json_example():\n",
    "    data = {'name': 'Jane', 'age': 25, 'city': 'London'}\n",
    "\n",
    "    # Serialize data to a JSON file\n",
    "    with open('data.json', 'w') as file:\n",
    "        json.dump(data, file, indent=4)\n",
    "\n",
    "    # Deserialize data from the JSON file\n",
    "    with open('data.json', 'r') as file:\n",
    "        loaded_data = json.load(file)\n",
    "\n",
    "    print(\"Loaded Data:\", loaded_data)\n",
    "\n",
    "if __name__ == \"__main__\":\n",
    "    json_example()"
   ]
  },
  {
   "cell_type": "code",
   "execution_count": 9,
   "id": "0ae45496-0468-4875-954e-0b14d9a92002",
   "metadata": {},
   "outputs": [
    {
     "name": "stdout",
     "output_type": "stream",
     "text": [
      "Current Time (epoch): 1727950026.0682235\n",
      "Sleeping for 2 seconds...\n",
      "Awoke!\n"
     ]
    }
   ],
   "source": [
    "import time\n",
    "\n",
    "def time_example():\n",
    "    # Get the current time\n",
    "    current_time = time.time()\n",
    "    print(\"Current Time (epoch):\", current_time)\n",
    "\n",
    "    # Sleep for 2 seconds\n",
    "    print(\"Sleeping for 2 seconds...\")\n",
    "    time.sleep(2)\n",
    "    print(\"Awoke!\")\n",
    "\n",
    "if __name__ == \"__main__\":\n",
    "    time_example()"
   ]
  },
  {
   "cell_type": "code",
   "execution_count": 11,
   "id": "14dd5997-c885-42a3-86bd-0f8f55d5296b",
   "metadata": {},
   "outputs": [
    {
     "name": "stdout",
     "output_type": "stream",
     "text": [
      "Current Date and Time: 2024-10-03 15:37:20.559830\n",
      "Formatted Date and Time: 2024-10-03 15:37:20\n",
      "Future Date (after 5 days): 2024-10-08 15:37:20.559830\n"
     ]
    }
   ],
   "source": [
    "from datetime import datetime, timedelta\n",
    "\n",
    "def datetime_example():\n",
    "    # Get current date and time\n",
    "    now = datetime.now()\n",
    "    print(\"Current Date and Time:\", now)\n",
    "\n",
    "    # Format date and time\n",
    "    formatted = now.strftime(\"%Y-%m-%d %H:%M:%S\")\n",
    "    print(\"Formatted Date and Time:\", formatted)\n",
    "\n",
    "    # Add 5 days to the current date\n",
    "    future_date = now + timedelta(days=5)\n",
    "    print(\"Future Date (after 5 days):\", future_date)\n",
    "\n",
    "if __name__ == \"__main__\":\n",
    "    datetime_example()"
   ]
  },
  {
   "cell_type": "code",
   "execution_count": 13,
   "id": "2993281e-0dd7-4d52-a596-64acd86ce9ea",
   "metadata": {},
   "outputs": [
    {
     "name": "stdout",
     "output_type": "stream",
     "text": [
      "File Content:\n",
      "Hello, world!\n",
      "Welcome to Python file handling.\n"
     ]
    }
   ],
   "source": [
    "def file_handling_example():\n",
    "    filename = 'sample.txt'\n",
    "\n",
    "    # Write to a file\n",
    "    with open(filename, 'w') as file:\n",
    "        file.write('Hello, world!\\n')\n",
    "        file.write('Welcome to Python file handling.')\n",
    "\n",
    "    # Read from a file\n",
    "    with open(filename, 'r') as file:\n",
    "        content = file.read()\n",
    "        print(\"File Content:\")\n",
    "        print(content)\n",
    "\n",
    "if __name__ == \"__main__\":\n",
    "    file_handling_example()"
   ]
  },
  {
   "cell_type": "code",
   "execution_count": 15,
   "id": "55db7b2e-d80b-4770-9f41-5a46134dd14f",
   "metadata": {},
   "outputs": [],
   "source": [
    "import logging\n",
    "\n",
    "def logging_example():\n",
    "    # Configure the logger\n",
    "    logging.basicConfig(filename='example.log', level=logging.DEBUG, format='%(asctime)s - %(levelname)s - %(message)s')\n",
    "\n",
    "    # Log some messages\n",
    "    logging.debug('This is a debug message')\n",
    "    logging.info('This is an info message')\n",
    "    logging.warning('This is a warning message')\n",
    "    logging.error('This is an error message')\n",
    "    logging.critical('This is a critical message')\n",
    "\n",
    "if __name__ == \"__main__\":\n",
    "    logging_example()"
   ]
  },
  {
   "cell_type": "code",
   "execution_count": 17,
   "id": "2926e82b-8278-463e-95c0-96ef1f2f2746",
   "metadata": {},
   "outputs": [
    {
     "name": "stdout",
     "output_type": "stream",
     "text": [
      "Prices found: ['$25.99']\n",
      "Updated Text: The price of the product is $29.99 and the discount is 10%.\n"
     ]
    }
   ],
   "source": [
    "import re\n",
    "\n",
    "def re_example():\n",
    "    text = \"The price of the product is $25.99 and the discount is 10%.\"\n",
    "\n",
    "    # Find all prices\n",
    "    prices = re.findall(r'\\$\\d+\\.\\d+', text)\n",
    "    print(\"Prices found:\", prices)\n",
    "\n",
    "    # Replace price with a new value\n",
    "    updated_text = re.sub(r'\\$\\d+\\.\\d+', '$29.99', text)\n",
    "    print(\"Updated Text:\", updated_text)\n",
    "\n",
    "if __name__ == \"__main__\":\n",
    "    re_example()"
   ]
  },
  {
   "cell_type": "code",
   "execution_count": 19,
   "id": "4235076e-90ed-4462-9849-00e0d0772593",
   "metadata": {},
   "outputs": [
    {
     "name": "stdout",
     "output_type": "stream",
     "text": [
      "Numpy Array: [1 2 3 4 5]\n",
      "Squared Array: [ 1  4  9 16 25]\n",
      "Mean Value: 3.0\n"
     ]
    }
   ],
   "source": [
    "import numpy as np\n",
    "\n",
    "def numpy_example():\n",
    "    # Create a numpy array\n",
    "    array = np.array([1, 2, 3, 4, 5])\n",
    "    print(\"Numpy Array:\", array)\n",
    "\n",
    "    # Perform basic operations\n",
    "    array_squared = np.square(array)\n",
    "    print(\"Squared Array:\", array_squared)\n",
    "\n",
    "    # Calculate mean\n",
    "    mean_value = np.mean(array)\n",
    "    print(\"Mean Value:\", mean_value)\n",
    "\n",
    "if __name__ == \"__main__\":\n",
    "    numpy_example()"
   ]
  },
  {
   "cell_type": "code",
   "execution_count": 21,
   "id": "78e9a55f-c28d-4a63-99b2-2d0dffc50962",
   "metadata": {},
   "outputs": [
    {
     "name": "stdout",
     "output_type": "stream",
     "text": [
      "DataFrame:\n",
      "      Name  Age         City\n",
      "0    Alice   25     New York\n",
      "1      Bob   30  Los Angeles\n",
      "2  Charlie   35      Chicago\n",
      "\n",
      "Names:\n",
      "0      Alice\n",
      "1        Bob\n",
      "2    Charlie\n",
      "Name: Name, dtype: object\n",
      "\n",
      "Filtered DataFrame (Age > 30):\n",
      "      Name  Age     City\n",
      "2  Charlie   35  Chicago\n"
     ]
    }
   ],
   "source": [
    "import pandas as pd\n",
    "\n",
    "def pandas_example():\n",
    "    # Create a DataFrame\n",
    "    data = {\n",
    "        'Name': ['Alice', 'Bob', 'Charlie'],\n",
    "        'Age': [25, 30, 35],\n",
    "        'City': ['New York', 'Los Angeles', 'Chicago']\n",
    "    }\n",
    "    df = pd.DataFrame(data)\n",
    "    print(\"DataFrame:\")\n",
    "    print(df)\n",
    "\n",
    "    # Access specific columns\n",
    "    print(\"\\nNames:\")\n",
    "    print(df['Name'])\n",
    "\n",
    "    # Filter rows\n",
    "    filtered_df = df[df['Age'] > 30]\n",
    "    print(\"\\nFiltered DataFrame (Age > 30):\")\n",
    "    print(filtered_df)\n",
    "\n",
    "if __name__ == \"__main__\":\n",
    "    pandas_example()"
   ]
  },
  {
   "cell_type": "code",
   "execution_count": null,
   "id": "954d8fa0-4471-4cf3-b882-8f4ae803a637",
   "metadata": {},
   "outputs": [],
   "source": []
  }
 ],
 "metadata": {
  "kernelspec": {
   "display_name": "Python 3 (ipykernel)",
   "language": "python",
   "name": "python3"
  },
  "language_info": {
   "codemirror_mode": {
    "name": "ipython",
    "version": 3
   },
   "file_extension": ".py",
   "mimetype": "text/x-python",
   "name": "python",
   "nbconvert_exporter": "python",
   "pygments_lexer": "ipython3",
   "version": "3.12.4"
  }
 },
 "nbformat": 4,
 "nbformat_minor": 5
}
